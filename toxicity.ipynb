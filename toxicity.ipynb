{
  "nbformat": 4,
  "nbformat_minor": 0,
  "metadata": {
    "colab": {
      "provenance": [],
      "authorship_tag": "ABX9TyMweP2D7pqcfPpgBk7QRqv1",
      "include_colab_link": true
    },
    "kernelspec": {
      "name": "python3",
      "display_name": "Python 3"
    },
    "language_info": {
      "name": "python"
    }
  },
  "cells": [
    {
      "cell_type": "markdown",
      "metadata": {
        "id": "view-in-github",
        "colab_type": "text"
      },
      "source": [
        "<a href=\"https://colab.research.google.com/github/mallikaalvala/demo/blob/master/toxicity.ipynb\" target=\"_parent\"><img src=\"https://colab.research.google.com/assets/colab-badge.svg\" alt=\"Open In Colab\"/></a>"
      ]
    },
    {
      "cell_type": "code",
      "execution_count": 6,
      "metadata": {
        "colab": {
          "base_uri": "https://localhost:8080/"
        },
        "id": "g0a8q8rhg7Av",
        "outputId": "6ddabd73-382b-4289-f916-95ce3fc22395"
      },
      "outputs": [
        {
          "output_type": "stream",
          "name": "stdout",
          "text": [
            "Requirement already satisfied: rdkit in /usr/local/lib/python3.11/dist-packages (2025.3.2)\n",
            "Requirement already satisfied: numpy in /usr/local/lib/python3.11/dist-packages (from rdkit) (2.0.2)\n",
            "Requirement already satisfied: Pillow in /usr/local/lib/python3.11/dist-packages (from rdkit) (11.2.1)\n",
            "Accuracy: 0.0\n",
            "Toxicity prediction for COCC: [1]\n"
          ]
        }
      ],
      "source": [
        "import pandas as pd\n",
        "!pip install rdkit\n",
        "from rdkit import Chem\n",
        "from rdkit.Chem import Descriptors\n",
        "from sklearn.ensemble import RandomForestClassifier\n",
        "from sklearn.model_selection import train_test_split\n",
        "from sklearn.metrics import accuracy_score\n",
        "\n",
        "# Function to calculate molecular descriptors\n",
        "def calculate_descriptors(smiles):\n",
        "    mol = Chem.MolFromSmiles(smiles)\n",
        "    descriptors = {\n",
        "        'MolWt': Descriptors.MolWt(mol),\n",
        "        'MolLogP': Descriptors.MolLogP(mol),\n",
        "        'NumHAcceptors': Descriptors.NumHAcceptors(mol),\n",
        "        'NumHDonors': Descriptors.NumHDonors(mol)\n",
        "    }\n",
        "    return descriptors\n",
        "\n",
        "# Example dataset with SMILES and toxicity labels (1 for toxic, 0 for non-toxic)\n",
        "data = {\n",
        "    'SMILES': ['CCO', 'CCN', 'CCCl', 'CCC', 'CCBr'],\n",
        "    'Toxicity': [0, 1, 1, 0, 1]\n",
        "}\n",
        "\n",
        "# Convert the dataset to a DataFrame\n",
        "df = pd.DataFrame(data)\n",
        "\n",
        "# Calculate descriptors for each molecule and add them to the DataFrame\n",
        "descriptors_list = [calculate_descriptors(smiles) for smiles in df['SMILES']]\n",
        "descriptors_df = pd.DataFrame(descriptors_list)\n",
        "df = pd.concat([df, descriptors_df], axis=1)\n",
        "\n",
        "# Split the data into training and testing sets\n",
        "X = df.drop(['SMILES', 'Toxicity'], axis=1)\n",
        "y = df['Toxicity']\n",
        "X_train, X_test, y_train, y_test = train_test_split(X, y, test_size=0.2, random_state=42)\n",
        "\n",
        "# Train a Random Forest classifier\n",
        "clf = RandomForestClassifier(n_estimators=100, random_state=42)\n",
        "clf.fit(X_train, y_train)\n",
        "\n",
        "# Predict toxicity on the test set\n",
        "y_pred = clf.predict(X_test)\n",
        "\n",
        "# Calculate accuracy\n",
        "accuracy = accuracy_score(y_test, y_pred)\n",
        "print(f'Accuracy: {accuracy}')\n",
        "\n",
        "# Predict toxicity for a new molecule\n",
        "new_smiles = 'COCC'\n",
        "new_descriptors = calculate_descriptors(new_smiles)\n",
        "new_data = pd.DataFrame([new_descriptors])\n",
        "toxicity_prediction = clf.predict(new_data)\n",
        "print(f'Toxicity prediction for {new_smiles}: {toxicity_prediction}')\n"
      ]
    }
  ]
}